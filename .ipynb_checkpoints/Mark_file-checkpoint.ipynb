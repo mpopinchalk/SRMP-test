{
 "cells": [
  {
   "cell_type": "code",
   "execution_count": null,
   "id": "7c3a27dd-b98d-4744-9194-cea745ef1a1b",
   "metadata": {},
   "outputs": [],
   "source": [
    "print(\"Hello, world.\")"
   ]
  }
 ],
 "metadata": {
  "kernelspec": {
   "display_name": "TESS Environment",
   "language": "python",
   "name": "tess"
  },
  "language_info": {
   "codemirror_mode": {
    "name": "ipython",
    "version": 3
   },
   "file_extension": ".py",
   "mimetype": "text/x-python",
   "name": "python",
   "nbconvert_exporter": "python",
   "pygments_lexer": "ipython3",
   "version": "3.11.0"
  }
 },
 "nbformat": 4,
 "nbformat_minor": 5
}
